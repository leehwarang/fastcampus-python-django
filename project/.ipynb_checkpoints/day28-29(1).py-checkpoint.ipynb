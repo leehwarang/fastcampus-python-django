{
 "cells": [
  {
   "cell_type": "code",
   "execution_count": null,
   "metadata": {},
   "outputs": [],
   "source": [
    "import requests\n",
    "from bs4 import BeautifulSoup as bs"
   ]
  },
  {
   "cell_type": "code",
   "execution_count": null,
   "metadata": {},
   "outputs": [],
   "source": []
  },
  {
   "cell_type": "code",
   "execution_count": null,
   "metadata": {},
   "outputs": [],
   "source": [
    "keyword = input(\"검색할 영화 제목 :\")\n",
    "i = 1\n",
    "while True:\n",
    "    url = \"http://www.cgv.co.kr/search/movie.aspx?query={}&page={}\".format(keyword, i)\n",
    "    response = requests.get(url)\n",
    "    result = bs(response.text, 'html.parser')\n",
    "    ul = result.find('div', {'sect-chart'}).ul\n",
    "    for li in ul.findAll(\"li\"):\n",
    "        print('--'*20)\n",
    "        print(\"영화 제목 : \", li.find('strong').text)\n",
    "        print(\"영화 이미지 url : \", li.img['src'])\n",
    "        print(\"영화 개봉일 : \", li.i.text)\n",
    "        print('--'*20)\n",
    "    i += 1"
   ]
  },
  {
   "cell_type": "code",
   "execution_count": null,
   "metadata": {},
   "outputs": [],
   "source": []
  }
 ],
 "metadata": {
  "kernelspec": {
   "display_name": "Python 3",
   "language": "python",
   "name": "python3"
  },
  "language_info": {
   "codemirror_mode": {
    "name": "ipython",
    "version": 3
   },
   "file_extension": ".py",
   "mimetype": "text/x-python",
   "name": "python",
   "nbconvert_exporter": "python",
   "pygments_lexer": "ipython3",
   "version": "3.6.4"
  }
 },
 "nbformat": 4,
 "nbformat_minor": 2
}
