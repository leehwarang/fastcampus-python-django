{
 "cells": [
  {
   "cell_type": "code",
   "execution_count": 2,
   "metadata": {},
   "outputs": [],
   "source": [
    "import requests"
   ]
  },
  {
   "cell_type": "code",
   "execution_count": 3,
   "metadata": {},
   "outputs": [],
   "source": [
    "response = requests.get(\"https://www.rottentomatoes.com/\")"
   ]
  },
  {
   "cell_type": "code",
   "execution_count": 4,
   "metadata": {},
   "outputs": [],
   "source": [
    "from bs4 import BeautifulSoup as bs"
   ]
  },
  {
   "cell_type": "code",
   "execution_count": 5,
   "metadata": {},
   "outputs": [],
   "source": [
    "result = bs(response.text, 'html.parser')"
   ]
  },
  {
   "cell_type": "code",
   "execution_count": 11,
   "metadata": {},
   "outputs": [],
   "source": [
    "table = result.find('table', {'id' : \"Top-Box-Office\"})"
   ]
  },
  {
   "cell_type": "code",
   "execution_count": 23,
   "metadata": {},
   "outputs": [
    {
     "name": "stdout",
     "output_type": "stream",
     "text": [
      "95%\n",
      "\n",
      "A Quiet Place\n",
      "\n",
      "$20.9M\n",
      "--------------------\n",
      "51%\n",
      "\n",
      "Rampage\n",
      "\n",
      "$20.1M\n",
      "--------------------\n",
      "34%\n",
      "\n",
      "I Feel Pretty\n",
      "\n",
      "$16.1M\n",
      "--------------------\n",
      "36%\n",
      "\n",
      "Super Troopers 2\n",
      "\n",
      "$15.2M\n",
      "--------------------\n",
      "15%\n",
      "\n",
      "Blumhouse's Truth or Dare\n",
      "\n",
      "$7.8M\n",
      "--------------------\n",
      "74%\n",
      "\n",
      "Ready Player One\n",
      "\n",
      "$7.5M\n",
      "--------------------\n",
      "83%\n",
      "\n",
      "Blockers\n",
      "\n",
      "$6.8M\n",
      "--------------------\n",
      "96%\n",
      "\n",
      "Black Panther\n",
      "\n",
      "$5M\n",
      "--------------------\n",
      "22%\n",
      "\n",
      "Traffik\n",
      "\n",
      "$4M\n",
      "--------------------\n",
      "90%\n",
      "\n",
      "Isle of Dogs\n",
      "\n",
      "$3.5M\n",
      "--------------------\n"
     ]
    }
   ],
   "source": [
    "for movie in table.find_all('tr'):\n",
    "    print(movie.find('span', {'class': 'tMeterScore'}).text)\n",
    "    print(movie.find('td', {'class':'middle_col'}).text)\n",
    "    print(movie.find('td', {'class':'right_col right'}).find('a').text.strip(\"\\n\").strip(\" \"))\n",
    "    print(\"-\"*20)"
   ]
  },
  {
   "cell_type": "code",
   "execution_count": 26,
   "metadata": {},
   "outputs": [],
   "source": [
    "response = requests.get('https://www.rottentomatoes.com/search/?search=a%20quiet%20place')"
   ]
  },
  {
   "cell_type": "code",
   "execution_count": 27,
   "metadata": {},
   "outputs": [],
   "source": [
    "result = bs(response.text, 'html.parser')"
   ]
  },
  {
   "cell_type": "code",
   "execution_count": 29,
   "metadata": {},
   "outputs": [
    {
     "data": {
      "text/plain": [
       "[]"
      ]
     },
     "execution_count": 29,
     "metadata": {},
     "output_type": "execute_result"
    }
   ],
   "source": [
    "result.find_all('section', {'id':'movieSection'})"
   ]
  },
  {
   "cell_type": "code",
   "execution_count": null,
   "metadata": {},
   "outputs": [],
   "source": []
  },
  {
   "cell_type": "code",
   "execution_count": null,
   "metadata": {},
   "outputs": [],
   "source": []
  }
 ],
 "metadata": {
  "kernelspec": {
   "display_name": "Python 3",
   "language": "python",
   "name": "python3"
  },
  "language_info": {
   "codemirror_mode": {
    "name": "ipython",
    "version": 3
   },
   "file_extension": ".py",
   "mimetype": "text/x-python",
   "name": "python",
   "nbconvert_exporter": "python",
   "pygments_lexer": "ipython3",
   "version": "3.6.4"
  }
 },
 "nbformat": 4,
 "nbformat_minor": 2
}
