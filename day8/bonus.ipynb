{
 "cells": [
  {
   "cell_type": "code",
   "execution_count": 1,
   "metadata": {},
   "outputs": [],
   "source": [
    "def sum_two(a, b):\n",
    "    return a+b"
   ]
  },
  {
   "cell_type": "code",
   "execution_count": 2,
   "metadata": {},
   "outputs": [
    {
     "data": {
      "text/plain": [
       "4"
      ]
     },
     "execution_count": 2,
     "metadata": {},
     "output_type": "execute_result"
    }
   ],
   "source": [
    "sum_two(1, 3)"
   ]
  },
  {
   "cell_type": "code",
   "execution_count": 3,
   "metadata": {},
   "outputs": [],
   "source": [
    "var = sum_two #함수는 변수나 데이터에 할당할 수 있다. "
   ]
  },
  {
   "cell_type": "code",
   "execution_count": 5,
   "metadata": {},
   "outputs": [
    {
     "data": {
      "text/plain": [
       "30"
      ]
     },
     "execution_count": 5,
     "metadata": {},
     "output_type": "execute_result"
    }
   ],
   "source": [
    "var(10, 20)"
   ]
  },
  {
   "cell_type": "code",
   "execution_count": 6,
   "metadata": {},
   "outputs": [
    {
     "data": {
      "text/plain": [
       "True"
      ]
     },
     "execution_count": 6,
     "metadata": {},
     "output_type": "execute_result"
    }
   ],
   "source": [
    "var is sum_two "
   ]
  },
  {
   "cell_type": "code",
   "execution_count": 7,
   "metadata": {},
   "outputs": [],
   "source": [
    "def add_to_3(func, num):\n",
    "    return func(3, num)"
   ]
  },
  {
   "cell_type": "code",
   "execution_count": 9,
   "metadata": {},
   "outputs": [
    {
     "data": {
      "text/plain": [
       "13"
      ]
     },
     "execution_count": 9,
     "metadata": {},
     "output_type": "execute_result"
    }
   ],
   "source": [
    "add_to_3(sum_two, 10) #함수는 함수의 인자로 넘길 수 있다. "
   ]
  },
  {
   "cell_type": "code",
   "execution_count": 10,
   "metadata": {},
   "outputs": [],
   "source": [
    "from functools import partial"
   ]
  },
  {
   "cell_type": "code",
   "execution_count": 11,
   "metadata": {},
   "outputs": [],
   "source": [
    "new_print = partial(print, end='**')"
   ]
  },
  {
   "cell_type": "code",
   "execution_count": 12,
   "metadata": {},
   "outputs": [
    {
     "name": "stdout",
     "output_type": "stream",
     "text": [
      "hello**"
     ]
    }
   ],
   "source": [
    "new_print(\"hello\")"
   ]
  },
  {
   "cell_type": "code",
   "execution_count": null,
   "metadata": {},
   "outputs": [],
   "source": []
  },
  {
   "cell_type": "code",
   "execution_count": null,
   "metadata": {},
   "outputs": [],
   "source": []
  },
  {
   "cell_type": "code",
   "execution_count": 13,
   "metadata": {},
   "outputs": [],
   "source": [
    "#함수가 실행될 때 알림을 해주는 함수"
   ]
  },
  {
   "cell_type": "code",
   "execution_count": 14,
   "metadata": {},
   "outputs": [],
   "source": [
    "def alert_start(func):\n",
    "    def new_func(*args, **kwargs): #실행 할 함수가 어떤 인자를 보낼지 모르기 때문에 \n",
    "        print(\"함수가 시작됩니다!\")\n",
    "        return func(*args, **kwargs) #함수를 함수 안에서 실행 시킬 것. \n",
    "    return new_func\n",
    "\n"
   ]
  },
  {
   "cell_type": "code",
   "execution_count": 16,
   "metadata": {},
   "outputs": [],
   "source": [
    "new_func = alert_start(print)"
   ]
  },
  {
   "cell_type": "code",
   "execution_count": 17,
   "metadata": {},
   "outputs": [
    {
     "name": "stdout",
     "output_type": "stream",
     "text": [
      "함수가 시작됩니다!\n",
      "안녕하세요!\n"
     ]
    }
   ],
   "source": [
    "new_func('안녕하세요!')"
   ]
  },
  {
   "cell_type": "code",
   "execution_count": 18,
   "metadata": {},
   "outputs": [],
   "source": [
    "def alert_end(func):\n",
    "    def new_func(*args, **kwargs):\n",
    "        result = func(*args, **kwargs)\n",
    "        print(\"함수가 종료되었습니다.\")\n",
    "        return result\n",
    "    return new_func"
   ]
  },
  {
   "cell_type": "code",
   "execution_count": 19,
   "metadata": {},
   "outputs": [],
   "source": [
    "new_func = alert_end(print)"
   ]
  },
  {
   "cell_type": "code",
   "execution_count": 20,
   "metadata": {},
   "outputs": [
    {
     "name": "stdout",
     "output_type": "stream",
     "text": [
      "안녕하세요!\n",
      "함수가 종료되었습니다.\n"
     ]
    }
   ],
   "source": [
    "new_func('안녕하세요!')"
   ]
  },
  {
   "cell_type": "code",
   "execution_count": 21,
   "metadata": {},
   "outputs": [],
   "source": [
    "new_print = alert_end(alert_start(print))"
   ]
  },
  {
   "cell_type": "code",
   "execution_count": 22,
   "metadata": {},
   "outputs": [
    {
     "name": "stdout",
     "output_type": "stream",
     "text": [
      "함수가 시작됩니다!\n",
      "안녕!!\n",
      "함수가 종료되었습니다.\n"
     ]
    }
   ],
   "source": [
    "new_print('안녕!!')"
   ]
  },
  {
   "cell_type": "code",
   "execution_count": 32,
   "metadata": {},
   "outputs": [],
   "source": [
    "@alert_start\n",
    "def sum_all(*args):\n",
    "    return sum(args)\n",
    "\n",
    "#alert_start(sum_all) 과 동일)"
   ]
  },
  {
   "cell_type": "code",
   "execution_count": 33,
   "metadata": {},
   "outputs": [
    {
     "name": "stdout",
     "output_type": "stream",
     "text": [
      "함수가 시작됩니다!\n",
      "함수가 종료되었습니다.\n"
     ]
    },
    {
     "data": {
      "text/plain": [
       "10"
      ]
     },
     "execution_count": 33,
     "metadata": {},
     "output_type": "execute_result"
    }
   ],
   "source": [
    "sum_all(1, 2, 3, 4) # == alert_start(sum_all)"
   ]
  },
  {
   "cell_type": "code",
   "execution_count": 35,
   "metadata": {},
   "outputs": [],
   "source": [
    "@alert_start\n",
    "@alert_end\n",
    "def sum_all(*args):\n",
    "    return sum(args)\n",
    "\n",
    "#alert_start(sum_all) 과 동일)"
   ]
  },
  {
   "cell_type": "code",
   "execution_count": 37,
   "metadata": {},
   "outputs": [
    {
     "name": "stdout",
     "output_type": "stream",
     "text": [
      "함수가 시작됩니다!\n",
      "함수가 종료되었습니다.\n"
     ]
    },
    {
     "data": {
      "text/plain": [
       "10"
      ]
     },
     "execution_count": 37,
     "metadata": {},
     "output_type": "execute_result"
    }
   ],
   "source": [
    "sum_all(1, 2, 3, 4) # == alert_end(alert_start(sum_all))"
   ]
  },
  {
   "cell_type": "code",
   "execution_count": 39,
   "metadata": {},
   "outputs": [],
   "source": [
    "def print_name(func):\n",
    "    def inner(*args, **kwargs):\n",
    "        print(\"00님이 함수를 실행합니다.\")\n",
    "        return func(*args, **kwargs)\n",
    "    return inner"
   ]
  },
  {
   "cell_type": "code",
   "execution_count": 41,
   "metadata": {},
   "outputs": [],
   "source": [
    "@print_name\n",
    "def sum_all(*args):\n",
    "    return sum(args)"
   ]
  },
  {
   "cell_type": "code",
   "execution_count": 42,
   "metadata": {},
   "outputs": [
    {
     "name": "stdout",
     "output_type": "stream",
     "text": [
      "00님이 함수를 실행합니다.\n"
     ]
    },
    {
     "data": {
      "text/plain": [
       "6"
      ]
     },
     "execution_count": 42,
     "metadata": {},
     "output_type": "execute_result"
    }
   ],
   "source": [
    "sum_all(1,2,3)"
   ]
  },
  {
   "cell_type": "code",
   "execution_count": 45,
   "metadata": {},
   "outputs": [],
   "source": [
    "def print_name(name):\n",
    "    def outter(func):\n",
    "        def inner(*args, **kwargs):\n",
    "            print(\"{}가 함수를 실행합니다.\".format(name))\n",
    "            return func(*args, **kwargs)\n",
    "        return inner\n",
    "    return outter\n"
   ]
  },
  {
   "cell_type": "code",
   "execution_count": 46,
   "metadata": {},
   "outputs": [],
   "source": [
    "@print_name('michelle')\n",
    "def sum_all(*args):\n",
    "    return sum(args)"
   ]
  },
  {
   "cell_type": "code",
   "execution_count": 47,
   "metadata": {},
   "outputs": [
    {
     "name": "stdout",
     "output_type": "stream",
     "text": [
      "michelle가 함수를 실행합니다.\n"
     ]
    },
    {
     "data": {
      "text/plain": [
       "15"
      ]
     },
     "execution_count": 47,
     "metadata": {},
     "output_type": "execute_result"
    }
   ],
   "source": [
    "sum_all(1,2,3,4,5)"
   ]
  },
  {
   "cell_type": "code",
   "execution_count": null,
   "metadata": {},
   "outputs": [],
   "source": []
  },
  {
   "cell_type": "code",
   "execution_count": null,
   "metadata": {},
   "outputs": [],
   "source": []
  },
  {
   "cell_type": "code",
   "execution_count": 51,
   "metadata": {},
   "outputs": [],
   "source": [
    "@print_name('michelle')\n",
    "def fib(n):\n",
    "    if n < 2:\n",
    "        return n\n",
    "    return fib(n-1) + fib(n-2)"
   ]
  },
  {
   "cell_type": "code",
   "execution_count": 52,
   "metadata": {},
   "outputs": [
    {
     "name": "stdout",
     "output_type": "stream",
     "text": [
      "michelle가 함수를 실행합니다.\n",
      "1\n",
      "michelle가 함수를 실행합니다.\n",
      "michelle가 함수를 실행합니다.\n",
      "michelle가 함수를 실행합니다.\n",
      "1\n",
      "michelle가 함수를 실행합니다.\n",
      "michelle가 함수를 실행합니다.\n",
      "michelle가 함수를 실행합니다.\n",
      "michelle가 함수를 실행합니다.\n",
      "michelle가 함수를 실행합니다.\n",
      "2\n",
      "michelle가 함수를 실행합니다.\n",
      "michelle가 함수를 실행합니다.\n",
      "michelle가 함수를 실행합니다.\n",
      "michelle가 함수를 실행합니다.\n",
      "michelle가 함수를 실행합니다.\n",
      "michelle가 함수를 실행합니다.\n",
      "michelle가 함수를 실행합니다.\n",
      "michelle가 함수를 실행합니다.\n",
      "michelle가 함수를 실행합니다.\n",
      "3\n",
      "michelle가 함수를 실행합니다.\n",
      "michelle가 함수를 실행합니다.\n",
      "michelle가 함수를 실행합니다.\n",
      "michelle가 함수를 실행합니다.\n",
      "michelle가 함수를 실행합니다.\n",
      "michelle가 함수를 실행합니다.\n",
      "michelle가 함수를 실행합니다.\n",
      "michelle가 함수를 실행합니다.\n",
      "michelle가 함수를 실행합니다.\n",
      "michelle가 함수를 실행합니다.\n",
      "michelle가 함수를 실행합니다.\n",
      "michelle가 함수를 실행합니다.\n",
      "michelle가 함수를 실행합니다.\n",
      "michelle가 함수를 실행합니다.\n",
      "michelle가 함수를 실행합니다.\n",
      "5\n",
      "michelle가 함수를 실행합니다.\n",
      "michelle가 함수를 실행합니다.\n",
      "michelle가 함수를 실행합니다.\n",
      "michelle가 함수를 실행합니다.\n",
      "michelle가 함수를 실행합니다.\n",
      "michelle가 함수를 실행합니다.\n",
      "michelle가 함수를 실행합니다.\n",
      "michelle가 함수를 실행합니다.\n",
      "michelle가 함수를 실행합니다.\n",
      "michelle가 함수를 실행합니다.\n",
      "michelle가 함수를 실행합니다.\n",
      "michelle가 함수를 실행합니다.\n",
      "michelle가 함수를 실행합니다.\n",
      "michelle가 함수를 실행합니다.\n",
      "michelle가 함수를 실행합니다.\n",
      "michelle가 함수를 실행합니다.\n",
      "michelle가 함수를 실행합니다.\n",
      "michelle가 함수를 실행합니다.\n",
      "michelle가 함수를 실행합니다.\n",
      "michelle가 함수를 실행합니다.\n",
      "michelle가 함수를 실행합니다.\n",
      "michelle가 함수를 실행합니다.\n",
      "michelle가 함수를 실행합니다.\n",
      "michelle가 함수를 실행합니다.\n",
      "michelle가 함수를 실행합니다.\n",
      "8\n",
      "michelle가 함수를 실행합니다.\n",
      "michelle가 함수를 실행합니다.\n",
      "michelle가 함수를 실행합니다.\n",
      "michelle가 함수를 실행합니다.\n",
      "michelle가 함수를 실행합니다.\n",
      "michelle가 함수를 실행합니다.\n",
      "michelle가 함수를 실행합니다.\n",
      "michelle가 함수를 실행합니다.\n",
      "michelle가 함수를 실행합니다.\n",
      "michelle가 함수를 실행합니다.\n",
      "michelle가 함수를 실행합니다.\n",
      "michelle가 함수를 실행합니다.\n",
      "michelle가 함수를 실행합니다.\n",
      "michelle가 함수를 실행합니다.\n",
      "michelle가 함수를 실행합니다.\n",
      "michelle가 함수를 실행합니다.\n",
      "michelle가 함수를 실행합니다.\n",
      "michelle가 함수를 실행합니다.\n",
      "michelle가 함수를 실행합니다.\n",
      "michelle가 함수를 실행합니다.\n",
      "michelle가 함수를 실행합니다.\n",
      "michelle가 함수를 실행합니다.\n",
      "michelle가 함수를 실행합니다.\n",
      "michelle가 함수를 실행합니다.\n",
      "michelle가 함수를 실행합니다.\n",
      "michelle가 함수를 실행합니다.\n",
      "michelle가 함수를 실행합니다.\n",
      "michelle가 함수를 실행합니다.\n",
      "michelle가 함수를 실행합니다.\n",
      "michelle가 함수를 실행합니다.\n",
      "michelle가 함수를 실행합니다.\n",
      "michelle가 함수를 실행합니다.\n",
      "michelle가 함수를 실행합니다.\n",
      "michelle가 함수를 실행합니다.\n",
      "michelle가 함수를 실행합니다.\n",
      "michelle가 함수를 실행합니다.\n",
      "michelle가 함수를 실행합니다.\n",
      "michelle가 함수를 실행합니다.\n",
      "michelle가 함수를 실행합니다.\n",
      "michelle가 함수를 실행합니다.\n",
      "michelle가 함수를 실행합니다.\n",
      "13\n",
      "michelle가 함수를 실행합니다.\n",
      "michelle가 함수를 실행합니다.\n",
      "michelle가 함수를 실행합니다.\n",
      "michelle가 함수를 실행합니다.\n",
      "michelle가 함수를 실행합니다.\n",
      "michelle가 함수를 실행합니다.\n",
      "michelle가 함수를 실행합니다.\n",
      "michelle가 함수를 실행합니다.\n",
      "michelle가 함수를 실행합니다.\n",
      "michelle가 함수를 실행합니다.\n",
      "michelle가 함수를 실행합니다.\n",
      "michelle가 함수를 실행합니다.\n",
      "michelle가 함수를 실행합니다.\n",
      "michelle가 함수를 실행합니다.\n",
      "michelle가 함수를 실행합니다.\n",
      "michelle가 함수를 실행합니다.\n",
      "michelle가 함수를 실행합니다.\n",
      "michelle가 함수를 실행합니다.\n",
      "michelle가 함수를 실행합니다.\n",
      "michelle가 함수를 실행합니다.\n",
      "michelle가 함수를 실행합니다.\n",
      "michelle가 함수를 실행합니다.\n",
      "michelle가 함수를 실행합니다.\n",
      "michelle가 함수를 실행합니다.\n",
      "michelle가 함수를 실행합니다.\n",
      "michelle가 함수를 실행합니다.\n",
      "michelle가 함수를 실행합니다.\n",
      "michelle가 함수를 실행합니다.\n",
      "michelle가 함수를 실행합니다.\n",
      "michelle가 함수를 실행합니다.\n",
      "michelle가 함수를 실행합니다.\n",
      "michelle가 함수를 실행합니다.\n",
      "michelle가 함수를 실행합니다.\n",
      "michelle가 함수를 실행합니다.\n",
      "michelle가 함수를 실행합니다.\n",
      "michelle가 함수를 실행합니다.\n",
      "michelle가 함수를 실행합니다.\n",
      "michelle가 함수를 실행합니다.\n",
      "michelle가 함수를 실행합니다.\n",
      "michelle가 함수를 실행합니다.\n",
      "michelle가 함수를 실행합니다.\n",
      "michelle가 함수를 실행합니다.\n",
      "michelle가 함수를 실행합니다.\n",
      "michelle가 함수를 실행합니다.\n",
      "michelle가 함수를 실행합니다.\n",
      "michelle가 함수를 실행합니다.\n",
      "michelle가 함수를 실행합니다.\n",
      "michelle가 함수를 실행합니다.\n",
      "michelle가 함수를 실행합니다.\n",
      "michelle가 함수를 실행합니다.\n",
      "michelle가 함수를 실행합니다.\n",
      "michelle가 함수를 실행합니다.\n",
      "michelle가 함수를 실행합니다.\n",
      "michelle가 함수를 실행합니다.\n",
      "michelle가 함수를 실행합니다.\n",
      "michelle가 함수를 실행합니다.\n",
      "michelle가 함수를 실행합니다.\n",
      "michelle가 함수를 실행합니다.\n",
      "michelle가 함수를 실행합니다.\n",
      "michelle가 함수를 실행합니다.\n",
      "michelle가 함수를 실행합니다.\n",
      "michelle가 함수를 실행합니다.\n",
      "michelle가 함수를 실행합니다.\n",
      "michelle가 함수를 실행합니다.\n",
      "michelle가 함수를 실행합니다.\n",
      "michelle가 함수를 실행합니다.\n",
      "michelle가 함수를 실행합니다.\n",
      "21\n",
      "michelle가 함수를 실행합니다.\n",
      "michelle가 함수를 실행합니다.\n",
      "michelle가 함수를 실행합니다.\n",
      "michelle가 함수를 실행합니다.\n",
      "michelle가 함수를 실행합니다.\n",
      "michelle가 함수를 실행합니다.\n",
      "michelle가 함수를 실행합니다.\n",
      "michelle가 함수를 실행합니다.\n",
      "michelle가 함수를 실행합니다.\n",
      "michelle가 함수를 실행합니다.\n",
      "michelle가 함수를 실행합니다.\n",
      "michelle가 함수를 실행합니다.\n",
      "michelle가 함수를 실행합니다.\n",
      "michelle가 함수를 실행합니다.\n",
      "michelle가 함수를 실행합니다.\n",
      "michelle가 함수를 실행합니다.\n",
      "michelle가 함수를 실행합니다.\n",
      "michelle가 함수를 실행합니다.\n",
      "michelle가 함수를 실행합니다.\n",
      "michelle가 함수를 실행합니다.\n",
      "michelle가 함수를 실행합니다.\n",
      "michelle가 함수를 실행합니다.\n",
      "michelle가 함수를 실행합니다.\n",
      "michelle가 함수를 실행합니다.\n",
      "michelle가 함수를 실행합니다.\n",
      "michelle가 함수를 실행합니다.\n",
      "michelle가 함수를 실행합니다.\n",
      "michelle가 함수를 실행합니다.\n",
      "michelle가 함수를 실행합니다.\n",
      "michelle가 함수를 실행합니다.\n",
      "michelle가 함수를 실행합니다.\n",
      "michelle가 함수를 실행합니다.\n",
      "michelle가 함수를 실행합니다.\n",
      "michelle가 함수를 실행합니다.\n",
      "michelle가 함수를 실행합니다.\n",
      "michelle가 함수를 실행합니다.\n",
      "michelle가 함수를 실행합니다.\n",
      "michelle가 함수를 실행합니다.\n",
      "michelle가 함수를 실행합니다.\n",
      "michelle가 함수를 실행합니다.\n",
      "michelle가 함수를 실행합니다.\n",
      "michelle가 함수를 실행합니다.\n",
      "michelle가 함수를 실행합니다.\n",
      "michelle가 함수를 실행합니다.\n",
      "michelle가 함수를 실행합니다.\n",
      "michelle가 함수를 실행합니다.\n",
      "michelle가 함수를 실행합니다.\n",
      "michelle가 함수를 실행합니다.\n",
      "michelle가 함수를 실행합니다.\n",
      "michelle가 함수를 실행합니다.\n",
      "michelle가 함수를 실행합니다.\n",
      "michelle가 함수를 실행합니다.\n",
      "michelle가 함수를 실행합니다.\n",
      "michelle가 함수를 실행합니다.\n",
      "michelle가 함수를 실행합니다.\n",
      "michelle가 함수를 실행합니다.\n",
      "michelle가 함수를 실행합니다.\n",
      "michelle가 함수를 실행합니다.\n",
      "michelle가 함수를 실행합니다.\n",
      "michelle가 함수를 실행합니다.\n",
      "michelle가 함수를 실행합니다.\n",
      "michelle가 함수를 실행합니다.\n",
      "michelle가 함수를 실행합니다.\n",
      "michelle가 함수를 실행합니다.\n",
      "michelle가 함수를 실행합니다.\n",
      "michelle가 함수를 실행합니다.\n",
      "michelle가 함수를 실행합니다.\n",
      "michelle가 함수를 실행합니다.\n",
      "michelle가 함수를 실행합니다.\n",
      "michelle가 함수를 실행합니다.\n",
      "michelle가 함수를 실행합니다.\n",
      "michelle가 함수를 실행합니다.\n",
      "michelle가 함수를 실행합니다.\n",
      "michelle가 함수를 실행합니다.\n",
      "michelle가 함수를 실행합니다.\n",
      "michelle가 함수를 실행합니다.\n",
      "michelle가 함수를 실행합니다.\n",
      "michelle가 함수를 실행합니다.\n",
      "michelle가 함수를 실행합니다.\n",
      "michelle가 함수를 실행합니다.\n",
      "michelle가 함수를 실행합니다.\n",
      "michelle가 함수를 실행합니다.\n",
      "michelle가 함수를 실행합니다.\n",
      "michelle가 함수를 실행합니다.\n",
      "michelle가 함수를 실행합니다.\n",
      "michelle가 함수를 실행합니다.\n",
      "michelle가 함수를 실행합니다.\n",
      "michelle가 함수를 실행합니다.\n",
      "michelle가 함수를 실행합니다.\n",
      "michelle가 함수를 실행합니다.\n",
      "michelle가 함수를 실행합니다.\n",
      "michelle가 함수를 실행합니다.\n",
      "michelle가 함수를 실행합니다.\n",
      "michelle가 함수를 실행합니다.\n",
      "michelle가 함수를 실행합니다.\n",
      "michelle가 함수를 실행합니다.\n",
      "michelle가 함수를 실행합니다.\n",
      "michelle가 함수를 실행합니다.\n",
      "michelle가 함수를 실행합니다.\n",
      "michelle가 함수를 실행합니다.\n",
      "michelle가 함수를 실행합니다.\n",
      "michelle가 함수를 실행합니다.\n",
      "michelle가 함수를 실행합니다.\n",
      "michelle가 함수를 실행합니다.\n",
      "michelle가 함수를 실행합니다.\n",
      "michelle가 함수를 실행합니다.\n",
      "michelle가 함수를 실행합니다.\n",
      "michelle가 함수를 실행합니다.\n",
      "michelle가 함수를 실행합니다.\n",
      "34\n"
     ]
    }
   ],
   "source": [
    "for i in range(1, 10):\n",
    "    print(fib(i))"
   ]
  },
  {
   "cell_type": "code",
   "execution_count": 53,
   "metadata": {},
   "outputs": [],
   "source": [
    "def memo(func):\n",
    "    MEMO = {}\n",
    "    def inner(n):\n",
    "        if MEMO.get(n):\n",
    "            return MEMO[n]\n",
    "        "
   ]
  },
  {
   "cell_type": "code",
   "execution_count": null,
   "metadata": {},
   "outputs": [],
   "source": [
    "def A():\n",
    "    "
   ]
  },
  {
   "cell_type": "code",
   "execution_count": 54,
   "metadata": {},
   "outputs": [
    {
     "ename": "NameError",
     "evalue": "name 'A' is not defined",
     "output_type": "error",
     "traceback": [
      "\u001b[0;31m---------------------------------------------------------------------------\u001b[0m",
      "\u001b[0;31mNameError\u001b[0m                                 Traceback (most recent call last)",
      "\u001b[0;32m<ipython-input-54-42dc9e008ab5>\u001b[0m in \u001b[0;36m<module>\u001b[0;34m()\u001b[0m\n\u001b[0;32m----> 1\u001b[0;31m \u001b[0;34m@\u001b[0m\u001b[0mA\u001b[0m\u001b[0;34m\u001b[0m\u001b[0m\n\u001b[0m\u001b[1;32m      2\u001b[0m \u001b[0;32mdef\u001b[0m \u001b[0mfunc\u001b[0m\u001b[0;34m(\u001b[0m\u001b[0ma\u001b[0m\u001b[0;34m)\u001b[0m\u001b[0;34m:\u001b[0m\u001b[0;34m\u001b[0m\u001b[0m\n\u001b[1;32m      3\u001b[0m     \u001b[0;32mreturn\u001b[0m \u001b[0ma\u001b[0m\u001b[0;34m\u001b[0m\u001b[0m\n",
      "\u001b[0;31mNameError\u001b[0m: name 'A' is not defined"
     ]
    }
   ],
   "source": [
    "@a\n",
    "def func(a):\n",
    "    return a\n"
   ]
  },
  {
   "cell_type": "code",
   "execution_count": null,
   "metadata": {},
   "outputs": [],
   "source": []
  },
  {
   "cell_type": "code",
   "execution_count": null,
   "metadata": {},
   "outputs": [],
   "source": []
  }
 ],
 "metadata": {
  "kernelspec": {
   "display_name": "Python 3",
   "language": "python",
   "name": "python3"
  },
  "language_info": {
   "codemirror_mode": {
    "name": "ipython",
    "version": 3
   },
   "file_extension": ".py",
   "mimetype": "text/x-python",
   "name": "python",
   "nbconvert_exporter": "python",
   "pygments_lexer": "ipython3",
   "version": "3.6.4"
  }
 },
 "nbformat": 4,
 "nbformat_minor": 2
}
